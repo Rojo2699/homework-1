{
 "cells": [
  {
   "cell_type": "markdown",
   "metadata": {
    "colab_type": "text",
    "id": "AFsBq4bgNhbN"
   },
   "source": [
    "# Homework 1: Introduction to Jupyter and GitHub\n",
    "\n",
    "**Due Friday, April 10.**\n",
    "\n",
    "Robert Rojo (SID: 862026563)\n",
    "\n",
    "### Homework checklist\n",
    "\n",
    "Before submitting, make sure that you\n",
    "\n",
    "-  Fill in your name in the space above\n",
    "-  Cite any resources that you used while working on this homework\n",
    "-    4. Insert and fill in a new markdown cell\n",
    "-    5. Insert and fill in a new code cell"
   ]
  },
  {
   "cell_type": "markdown",
   "metadata": {
    "colab_type": "text",
    "id": "5i3kNAihNhbR"
   },
   "source": [
    "## Introduction\n",
    "\n",
    "Now that you have **Python 3** and **Jupyter** installed, you can open this notebook in Jupyter. How you do this might vary a bit from system to system, but a common approach is to run `jupyter notebook` from the command line (a.k.a. terminal) in the folder where you've downloaded this file (`homework-1.ipynb`). \n",
    "\n",
    "We won't be running anything else directly from the terminal in this course, but more information is available [here](https://swcarpentry.github.io/shell-novice/) if you're interested. "
   ]
  },
  {
   "cell_type": "markdown",
   "metadata": {
    "colab_type": "text",
    "id": "pkmPsF1PNhbU"
   },
   "source": [
    "## 4. Practice basic Jupyter I\n",
    "\n",
    "You may have noticed that the text in this document is organized into discrete blocks called cells. You can click on any cell to select it, and double click to edit. Edit the first cell to enter your name. Once you're done, you can execute the code (or format the text) in the cell by using the menu bar above, or with the keyboard shortcut `shift + enter`.\n",
    "\n",
    "Jupyter notebooks use a lightweight language called [Markdown](https://en.wikipedia.org/wiki/Markdown) for formatting plain text. Here is a [guide](https://github.com/adam-p/markdown-here/wiki/Markdown-Cheatsheet) to some common Markdown notation. You can also use Markdown to format equations by enclosing them in `$` symbols! Equation formatting follows $\\LaTeX$ conventions.\n",
    "\n",
    "Let's practice using Jupyter and Markdown by:  \n",
    "1. Inserting a new cell below this one. To do this, select this cell and select `Insert` > `Insert Cell Below` from the menu.  \n",
    "2. Click on the new cell and change its type to Markdown by selecting it and selecting `Cell` > `Cell Type` > `Markdown` from the menu.  \n",
    "3. Add a heading in that cell with a single `#`, and a subheading with `##`.  \n",
    "4. Now add a numbered list below that. You can also generated un-numbered lists by using `*` or other starting characters.  \n",
    "5. Add an equation to your text box using Latex.  "
   ]
  },
  {
   "cell_type": "markdown",
   "metadata": {},
   "source": [
    "# Am I doing this right\n",
    "## I think I'm doing this right, smaller letters go here\n",
    "1. This numbered list\n",
    "2. Is pretty\n",
    "3. Cool\n",
    "\n",
    "#### And now a famous haiku for unnumbered list practice\n",
    "\n",
    "* A world of dew,\n",
    "* And within every dewdrop\n",
    "* A world of struggle. \n",
    "\n",
    "\n",
    "$\\Delta$$x$ = $v_0$$t$ + 1/2$a$$t^2$"
   ]
  },
  {
   "cell_type": "markdown",
   "metadata": {
    "colab_type": "text",
    "id": "ZSpeys0HNhbZ"
   },
   "source": [
    "## 5. Practice basic Jupyter II\n",
    "\n",
    "Let's now do some light practice with code cells in Jupyter:\n",
    "1. Insert another cell below this one. By default, it will be a code cell.  \n",
    "2. Define a variable in that cell. For example, we could set `x = 3`.\n",
    "3. Now let's insert another new cell below that one. Print out the variable that you defined in the previous cell. For the example above, I could write `print(x)`.  \n",
    "\n",
    "Note that, as shown above, variables defined in one cell still hold their values in another cell! Each cell is not a separate compute environment. **Variables are shared across the entire notebook.** This is important to keep in mind when you are coding, so that you don't accidentally use a variable that you might not have intended to use."
   ]
  },
  {
   "cell_type": "code",
   "execution_count": 4,
   "metadata": {},
   "outputs": [
    {
     "name": "stdout",
     "output_type": "stream",
     "text": [
      "512\n"
     ]
    }
   ],
   "source": [
    "x = 2**3**2\n",
    "print(x)"
   ]
  },
  {
   "cell_type": "markdown",
   "metadata": {},
   "source": [
    "# Sources that helped out \n",
    "\n",
    "https://oeis.org/wiki/List_of_LaTeX_mathematical_symbols\n",
    "\n",
    "For Latex symbols :)"
   ]
  },
  {
   "cell_type": "markdown",
   "metadata": {
    "colab_type": "text",
    "id": "v9rJ28_rNhbe"
   },
   "source": [
    "## 6. Submit the homework assignment\n",
    "\n",
    "First, save your modified version of this file by using the shortcut `contrl+s` or by selecting `File` > `Save and Checkpoint` from the menu. Next, upload it to your GitHub repository for this homework. "
   ]
  }
 ],
 "metadata": {
  "colab": {
   "name": "homework-1.ipynb",
   "provenance": []
  },
  "kernelspec": {
   "display_name": "Python 3",
   "language": "python",
   "name": "python3"
  },
  "language_info": {
   "codemirror_mode": {
    "name": "ipython",
    "version": 3
   },
   "file_extension": ".py",
   "mimetype": "text/x-python",
   "name": "python",
   "nbconvert_exporter": "python",
   "pygments_lexer": "ipython3",
   "version": "3.7.6"
  },
  "toc": {
   "base_numbering": 1,
   "nav_menu": {},
   "number_sections": true,
   "sideBar": true,
   "skip_h1_title": false,
   "title_cell": "Table of Contents",
   "title_sidebar": "Contents",
   "toc_cell": false,
   "toc_position": {},
   "toc_section_display": true,
   "toc_window_display": false
  }
 },
 "nbformat": 4,
 "nbformat_minor": 1
}
